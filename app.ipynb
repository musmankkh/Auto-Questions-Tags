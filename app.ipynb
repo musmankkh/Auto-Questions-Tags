{
  "cells": [
    {
      "cell_type": "markdown",
      "metadata": {
        "id": "UrkoZA456Lxw"
      },
      "source": [
        "## **Importing Libraries**"
      ]
    },
    {
      "cell_type": "code",
      "execution_count": 2,
      "metadata": {
        "id": "oDOkCHDO5KVc"
      },
      "outputs": [],
      "source": [
        "import re\n",
        "import string\n",
        "from nltk import WordNetLemmatizer\n",
        "import pandas as pd\n",
        "from nltk.corpus import stopwords\n",
        "from sklearn.ensemble import RandomForestClassifier, GradientBoostingClassifier\n",
        "from sklearn.feature_extraction.text import TfidfVectorizer\n",
        "from sklearn.linear_model import LogisticRegression\n",
        "from sklearn.metrics import accuracy_score\n",
        "from sklearn.preprocessing import LabelEncoder\n",
        "from sklearn.model_selection import train_test_split\n",
        "from sklearn.neighbors import KNeighborsClassifier\n",
        "from sklearn.tree import DecisionTreeClassifier\n",
        "from sklearn import svm\n",
        "import matplotlib.pyplot as plt\n",
        "from textblob import TextBlob"
      ]
    },
    {
      "cell_type": "markdown",
      "metadata": {},
      "source": [
        "## **Read Dataset**"
      ]
    },
    {
      "cell_type": "code",
      "execution_count": 3,
      "metadata": {
        "id": "M0eaA6mBsbr6"
      },
      "outputs": [],
      "source": [
        "Questions = pd.read_csv('Questions.csv', encoding='latin')\n",
        "Answers = pd.read_csv('Answers.csv', encoding='latin')\n",
        "Tags = pd.read_csv('Tags.csv', encoding='latin')"
      ]
    },
    {
      "cell_type": "code",
      "execution_count": 4,
      "metadata": {
        "colab": {
          "base_uri": "https://localhost:8080/",
          "height": 0
        },
        "id": "gWQZUngphU5k",
        "outputId": "a4e36954-379f-4c37-ff76-581d6d7661d4"
      },
      "outputs": [
        {
          "name": "stdout",
          "output_type": "stream",
          "text": [
            "    Id  OwnerUserId          CreationDate            ClosedDate  Score  \\\n",
            "0   80         26.0  2008-08-01T13:57:07Z                   NaN     26   \n",
            "1   90         58.0  2008-08-01T14:41:24Z  2012-12-26T03:45:49Z    144   \n",
            "2  120         83.0  2008-08-01T15:50:08Z                   NaN     21   \n",
            "\n",
            "                                               Title  \\\n",
            "0  SQLStatement.execute() - multiple queries in o...   \n",
            "1  Good branching and merging tutorials for Torto...   \n",
            "2                                  ASP.NET Site Maps   \n",
            "\n",
            "                                                Body  \n",
            "0  <p>I've written a database generation script i...  \n",
            "1  <p>Are there any really good tutorials explain...  \n",
            "2  <p>Has anyone got experience creating <strong>...  \n",
            "    Id  OwnerUserId          CreationDate  ParentId  Score  \\\n",
            "0   92         61.0  2008-08-01T14:45:37Z        90     13   \n",
            "1  124         26.0  2008-08-01T16:09:47Z        80     12   \n",
            "2  199         50.0  2008-08-01T19:36:46Z       180      1   \n",
            "\n",
            "                                                Body  \n",
            "0  <p><a href=\"http://svnbook.red-bean.com/\">Vers...  \n",
            "1  <p>I wound up using this. It is a kind of a ha...  \n",
            "2  <p>I've read somewhere the human eye can't dis...  \n",
            "   Id             Tag\n",
            "0  80            flex\n",
            "1  80  actionscript-3\n",
            "2  80             air\n"
          ]
        }
      ],
      "source": [
        "print(Questions.head(3))\n",
        "print(Answers.head(3))\n",
        "print(Tags.head(3))\n"
      ]
    },
    {
      "cell_type": "code",
      "execution_count": 5,
      "metadata": {
        "id": "AbAm22d56Rn-"
      },
      "outputs": [
        {
          "name": "stdout",
          "output_type": "stream",
          "text": [
            "               Id                                             Answer\n",
            "0              80  <p>I wound up using this. It is a kind of a ha...\n",
            "1              90  <p><a href=\"http://svnbook.red-bean.com/\">Vers...\n",
            "2             120  <p>The Jeff Prosise version from MSDN magazine...\n",
            "3             180  <p>I've read somewhere the human eye can't dis...\n",
            "4             260  <p>Yes, I thought about that, but I soon figur...\n",
            "...           ...                                                ...\n",
            "1102563  40142860  <p>It's faster and more reliable to work with ...\n",
            "1102564  40142900  <p>It's not you, it's LinkedIn. See others com...\n",
            "1102565  40142910  <p>Try add <code>retrun false</code> in the <c...\n",
            "1102566  40142940  <p>Here's how you can do it:</p>\\n\\n<pre><code...\n",
            "1102567  40143190  <p>Use a here-doc:</p>\\n\\n<pre><code>result=$(...\n",
            "\n",
            "[1102568 rows x 2 columns]\n"
          ]
        }
      ],
      "source": [
        "Questions.columns = ['Id', 'OwnerUserId', 'CreationDate', 'CloseDate', 'Score', 'Title', 'Question']\n",
        "Answers.columns = ['Id_normal', 'OwnerUserId', 'CreationDate', 'Id', 'Score', 'Answer']\n",
        "Answers.drop(columns=['Id_normal', 'OwnerUserId', 'CreationDate'], inplace=True)\n",
        "Answers = Answers.groupby('Id')['Answer'].apply(lambda answer: ' '.join(answer))\n",
        "Answers = Answers.to_frame().reset_index()\n",
        "print(Answers)"
      ]
    },
    {
      "cell_type": "code",
      "execution_count": 6,
      "metadata": {
        "id": "SpoezENS7dlW"
      },
      "outputs": [
        {
          "name": "stdout",
          "output_type": "stream",
          "text": [
            "               Id                                             Tag\n",
            "0              80                         flex actionscript-3 air\n",
            "1              90    svn tortoisesvn branch branching-and-merging\n",
            "2             120                             sql asp.net sitemap\n",
            "3             180  algorithm language-agnostic colors color-space\n",
            "4             260         c# .net scripting compiler-construction\n",
            "...           ...                                             ...\n",
            "1264211  40143210                                   php .htaccess\n",
            "1264212  40143300                                 google-bigquery\n",
            "1264213  40143340                          android android-studio\n",
            "1264214  40143360                               javascript vue.js\n",
            "1264215  40143380                                 npm mocha babel\n",
            "\n",
            "[1264216 rows x 2 columns]\n"
          ]
        }
      ],
      "source": [
        "Tags['Tag'] = Tags['Tag'].astype(str)\n",
        "Tags = Tags.groupby('Id')['Tag'].apply(lambda tag: ' '.join(tag))\n",
        "Tags = Tags.to_frame().reset_index()\n",
        "\n",
        "print(Tags)"
      ]
    },
    {
      "cell_type": "code",
      "execution_count": 7,
      "metadata": {
        "colab": {
          "base_uri": "https://localhost:8080/",
          "height": 70
        },
        "id": "S1baAcze70Ai",
        "outputId": "04a1d5e0-25cd-4eb0-b151-3fb55122e102"
      },
      "outputs": [
        {
          "name": "stdout",
          "output_type": "stream",
          "text": [
            "                                         tag  TagCount\n",
            "0                                         .a         1\n",
            "1                                  .htaccess       340\n",
            "2                        .htaccess .htpasswd         4\n",
            "3       .htaccess absolute-path relative-url         1\n",
            "4                     .htaccess addon-domain         1\n",
            "...                                      ...       ...\n",
            "685695     zurb-foundation zurb-foundation-5         3\n",
            "685696     zurb-foundation zurb-foundation-6         1\n",
            "685697                     zurb-foundation-6         1\n",
            "685698                                  zuul         1\n",
            "685699                            zxing zbar         1\n",
            "\n",
            "[685700 rows x 2 columns]\n"
          ]
        }
      ],
      "source": [
        "new_data = Questions.merge(Answers, how='left', on='Id')\n",
        "new_data = new_data.merge(Tags, how='left', on='Id')\n",
        "new_data.drop(columns=['OwnerUserId', 'CreationDate', 'CloseDate'], inplace=True)\n",
        "new_data.columns = ['id', 'score', 'title', 'question', 'answer', 'tag']\n",
        "\n",
        "count = new_data.groupby('tag')['tag'].count()\n",
        "count = count.to_frame()\n",
        "count.columns = ['TagCount']\n",
        "count = count.reset_index()\n",
        "\n",
        "print(count)"
      ]
    },
    {
      "cell_type": "code",
      "execution_count": 8,
      "metadata": {
        "id": "36e2I07F8r7q"
      },
      "outputs": [
        {
          "name": "stdout",
          "output_type": "stream",
          "text": [
            "Data After Preparation\n",
            "               id  score                                              title  \\\n",
            "11           1010     14  How to get the value of built, encoded ViewState?   \n",
            "23           2120     77                       Convert HashBytes to VarChar   \n",
            "34           2900     14              MySQL/Apache Error in PHP MySQL query   \n",
            "48           4230     34  The Difference Between a DataGrid and a GridVi...   \n",
            "192         17870     11                        Select ..... where .... OR    \n",
            "...           ...    ...                                                ...   \n",
            "1228605  39261590     10  Edittext cursor still blinks after closing the...   \n",
            "1234096  39410260     13  App is crashing after capturing picture using ...   \n",
            "1235166  39439760     10      How to preview multiple images before upload?   \n",
            "1249431  39797350      8                    Log.wtf vs. Unhandled Exception   \n",
            "1251020  39834660      8  Optimizing the use of arguments inside a function   \n",
            "\n",
            "                                                  question  \\\n",
            "11       <p>I need to grab the base64-encoded represent...   \n",
            "23       <p>I want to get the MD5 Hash of a string valu...   \n",
            "34       <p>I am getting the following error:</p>\\n\\n<b...   \n",
            "48       <p>I've been doing ASP.NET development for a l...   \n",
            "192      <p>Is there a way to select data where any one...   \n",
            "...                                                    ...   \n",
            "1228605  <p>Is an edittext cursor supposed to continue ...   \n",
            "1234096  <p>My app is crashing after capturing 5 to 6 p...   \n",
            "1235166  <p>I have a page with four images for the user...   \n",
            "1249431  <p>I just learned about <a href=\"https://devel...   \n",
            "1251020  <p>In an interview test, for the following cod...   \n",
            "\n",
            "                                                    answer  \\\n",
            "11       <p>Rex, I suspect a good place to start lookin...   \n",
            "23       <p>I have found the solution else where:</p>\\r...   \n",
            "34       <p>Just to check, if you use <strong>just</str...   \n",
            "48       <p>The DataGrid was originally in .NET 1.0.  T...   \n",
            "192      <p>Sure thing, the simplest way is this:</p>\\n...   \n",
            "...                                                    ...   \n",
            "1228605  <p>As you said, the blinking cursor in the <co...   \n",
            "1234096  <p>Try this code. I use it in some of my apps ...   \n",
            "1235166  <p>Here is <strong>jQuery</strong> version for...   \n",
            "1249431  <p><strike>What <code>Log.wtf</code> does is w...   \n",
            "1251020  <p>He's right but it's very much a micro-optim...   \n",
            "\n",
            "                            tag  TagCount  \n",
            "11                   c# asp.net      1830  \n",
            "23               sql sql-server      1778  \n",
            "34                    php mysql      4254  \n",
            "48                      asp.net      1481  \n",
            "192                       mysql      3848  \n",
            "...                         ...       ...  \n",
            "1228605                 android      9323  \n",
            "1234096                 android      9323  \n",
            "1235166  javascript jquery html      2414  \n",
            "1249431                 android      9323  \n",
            "1251020                     c++      3892  \n",
            "\n",
            "[2932 rows x 7 columns]\n"
          ]
        }
      ],
      "source": [
        "new_data = pd.merge(new_data, count, how='left', on='tag')\n",
        "new_data = new_data.dropna()\n",
        "new_data = new_data[(new_data['TagCount'] >= 1100) & (new_data['score'] > 7)]\n",
        "\n",
        "\n",
        "print(\"Data After Preparation\")\n",
        "print(new_data)\n",
        "new_data.drop(columns=['score', 'id', 'TagCount'], inplace=True)"
      ]
    },
    {
      "cell_type": "markdown",
      "metadata": {},
      "source": [
        "## **Word Lematization**"
      ]
    },
    {
      "cell_type": "code",
      "execution_count": 9,
      "metadata": {
        "colab": {
          "base_uri": "https://localhost:8080/",
          "height": 181
        },
        "id": "bsjRZ-HH9LeH",
        "outputId": "68560c04-9dd2-401a-ab32-691710d674c9"
      },
      "outputs": [
        {
          "name": "stdout",
          "output_type": "stream",
          "text": [
            "Data after punctuation_remover \n",
            "                                                     title  \\\n",
            "11         How to get the value of built encoded ViewState   \n",
            "23                            Convert HashBytes to VarChar   \n",
            "34                    MySQLApache Error in PHP MySQL query   \n",
            "48       The Difference Between a DataGrid and a GridVi...   \n",
            "192                                     Select  where  OR    \n",
            "...                                                    ...   \n",
            "1228605  Edittext cursor still blinks after closing the...   \n",
            "1234096  App is crashing after capturing picture using ...   \n",
            "1235166       How to preview multiple images before upload   \n",
            "1249431                      Logwtf vs Unhandled Exception   \n",
            "1251020  Optimizing the use of arguments inside a function   \n",
            "\n",
            "                                                  question  \\\n",
            "11       pI need to grab the base64encoded representati...   \n",
            "23       pI want to get the MD5 Hash of a string value ...   \n",
            "34       pI am getting the following errorp\\n\\nblockquo...   \n",
            "48       pIve been doing ASPNET development for a littl...   \n",
            "192      pIs there a way to select data where any one o...   \n",
            "...                                                    ...   \n",
            "1228605  pIs an edittext cursor supposed to continue bl...   \n",
            "1234096  pMy app is crashing after capturing 5 to 6 pho...   \n",
            "1235166  pI have a page with four images for the user t...   \n",
            "1249431  pI just learned about a hrefhttpsdeveloperandr...   \n",
            "1251020  pIn an interview test for the following code  ...   \n",
            "\n",
            "                                                    answer  \\\n",
            "11       pRex I suspect a good place to start looking i...   \n",
            "23       pI have found the solution else wherep\\r\\n\\r\\n...   \n",
            "34       pJust to check if you use strongjuststrong thi...   \n",
            "48       pThe DataGrid was originally in NET 10  The Gr...   \n",
            "192      pSure thing the simplest way is thisp\\n\\npreco...   \n",
            "...                                                    ...   \n",
            "1228605  pAs you said the blinking cursor in the codeEd...   \n",
            "1234096  pTry this code I use it in some of my apps p\\n...   \n",
            "1235166  pHere is strongjQuerystrong version for you I ...   \n",
            "1249431  pstrikeWhat codeLogwtfcode does is write the e...   \n",
            "1251020  pHes right but its very much a microoptimisati...   \n",
            "\n",
            "                            tag  \n",
            "11                   c# asp.net  \n",
            "23               sql sql-server  \n",
            "34                    php mysql  \n",
            "48                      asp.net  \n",
            "192                       mysql  \n",
            "...                         ...  \n",
            "1228605                 android  \n",
            "1234096                 android  \n",
            "1235166  javascript jquery html  \n",
            "1249431                 android  \n",
            "1251020                     c++  \n",
            "\n",
            "[2932 rows x 4 columns]\n"
          ]
        }
      ],
      "source": [
        "Lematizer = WordNetLemmatizer()\n",
        "\n",
        "def punctuation_remover(text):\n",
        "    for punctuation in string.punctuation:\n",
        "        text = text.replace(punctuation, '')\n",
        "    return text\n",
        "\n",
        "def Word_Lemmatizer(text):\n",
        "    lemma = [Lematizer.lemmatize(word) for word in text]\n",
        "    return lemma\n",
        "\n",
        "new_data['title'] = new_data['title'].astype(str)\n",
        "new_data['question'] = new_data['question'].astype(str)\n",
        "new_data['answer'] = new_data['answer'].astype(str)\n",
        "\n",
        "new_data['title'] = new_data['title'].apply(punctuation_remover)\n",
        "new_data['question'] = new_data['question'].apply(punctuation_remover)\n",
        "new_data['answer'] = new_data['answer'].apply(punctuation_remover)\n",
        "print(\"Data after punctuation_remover \")\n",
        "print(new_data)\n",
        "\n"
      ]
    },
    {
      "cell_type": "code",
      "execution_count": 10,
      "metadata": {
        "colab": {
          "base_uri": "https://localhost:8080/",
          "height": 139
        },
        "id": "UqyULJPHgKpW",
        "outputId": "493f2e69-6a5d-4bba-cd29-1ad53395f3f0"
      },
      "outputs": [
        {
          "name": "stdout",
          "output_type": "stream",
          "text": [
            "Data after Removing HTML tags and Changing texts into lowercase\n",
            "                                                     title  \\\n",
            "11         how to get the value of built encoded viewstate   \n",
            "23                            convert hashbytes to varchar   \n",
            "34                    mysqlapache error in php mysql query   \n",
            "48       the difference between a datagrid and a gridvi...   \n",
            "192                                     select  where  or    \n",
            "...                                                    ...   \n",
            "1228605  edittext cursor still blinks after closing the...   \n",
            "1234096  app is crashing after capturing picture using ...   \n",
            "1235166       how to preview multiple images before upload   \n",
            "1249431                      logwtf vs unhandled exception   \n",
            "1251020  optimizing the use of arguments inside a function   \n",
            "\n",
            "                                                  question  \\\n",
            "11       pi need to grab the base64encoded representati...   \n",
            "23       pi want to get the md5 hash of a string value ...   \n",
            "34       pi am getting the following errorp\\n\\nblockquo...   \n",
            "48       pive been doing aspnet development for a littl...   \n",
            "192      pis there a way to select data where any one o...   \n",
            "...                                                    ...   \n",
            "1228605  pis an edittext cursor supposed to continue bl...   \n",
            "1234096  pmy app is crashing after capturing 5 to 6 pho...   \n",
            "1235166  pi have a page with four images for the user t...   \n",
            "1249431  pi just learned about a hrefhttpsdeveloperandr...   \n",
            "1251020  pin an interview test for the following code  ...   \n",
            "\n",
            "                                                    answer  \\\n",
            "11       prex i suspect a good place to start looking i...   \n",
            "23       pi have found the solution else wherep\\r\\n\\r\\n...   \n",
            "34       pjust to check if you use strongjuststrong thi...   \n",
            "48       pthe datagrid was originally in net 10  the gr...   \n",
            "192      psure thing the simplest way is thisp\\n\\npreco...   \n",
            "...                                                    ...   \n",
            "1228605  pas you said the blinking cursor in the codeed...   \n",
            "1234096  ptry this code i use it in some of my apps p\\n...   \n",
            "1235166  phere is strongjquerystrong version for you i ...   \n",
            "1249431  pstrikewhat codelogwtfcode does is write the e...   \n",
            "1251020  phes right but its very much a microoptimisati...   \n",
            "\n",
            "                            tag  \n",
            "11                   c# asp.net  \n",
            "23               sql sql-server  \n",
            "34                    php mysql  \n",
            "48                      asp.net  \n",
            "192                       mysql  \n",
            "...                         ...  \n",
            "1228605                 android  \n",
            "1234096                 android  \n",
            "1235166  javascript jquery html  \n",
            "1249431                 android  \n",
            "1251020                     c++  \n",
            "\n",
            "[2932 rows x 4 columns]\n"
          ]
        }
      ],
      "source": [
        "new_data['title'] = new_data['title'].str.lower()\n",
        "new_data['question'] = new_data['question'].str.lower()\n",
        "new_data['answer'] = new_data['answer'].str.lower()\n",
        "\n",
        "new_data['question'] = new_data['question'].apply(lambda question: re.sub('<[^<]+?>', '', question))\n",
        "new_data['answer'] = new_data['answer'].apply(lambda answer: re.sub('<[^<]+?>', '', answer))\n",
        "new_data['title'] = new_data['title'].apply(lambda title: re.sub('<[^<]+?>', '', title))\n",
        "print(\"Data after Removing HTML tags and Changing texts into lowercase\")\n",
        "print(new_data)"
      ]
    },
    {
      "cell_type": "code",
      "execution_count": 11,
      "metadata": {
        "colab": {
          "base_uri": "https://localhost:8080/",
          "height": 146
        },
        "id": "Y8Pemeh-9yQ5",
        "outputId": "6ee815b3-0905-40c7-b352-bc201994f5ca"
      },
      "outputs": [
        {
          "name": "stdout",
          "output_type": "stream",
          "text": [
            "After Word Lemmatixer\n",
            "                                                     title  \\\n",
            "11       [how, to, get, the, value, of, built, encoded,...   \n",
            "23                       [convert, hashbytes, to, varchar]   \n",
            "34             [mysqlapache, error, in, php, mysql, query]   \n",
            "48       [the, difference, between, a, datagrid, and, a...   \n",
            "192                                    [select, where, or]   \n",
            "...                                                    ...   \n",
            "1228605  [edittext, cursor, still, blink, after, closin...   \n",
            "1234096  [app, is, crashing, after, capturing, picture,...   \n",
            "1235166  [how, to, preview, multiple, image, before, up...   \n",
            "1249431                  [logwtf, v, unhandled, exception]   \n",
            "1251020  [optimizing, the, use, of, argument, inside, a...   \n",
            "\n",
            "                                                  question  \\\n",
            "11       [pi, need, to, grab, the, base64encoded, repre...   \n",
            "23       [pi, want, to, get, the, md5, hash, of, a, str...   \n",
            "34       [pi, am, getting, the, following, errorp, bloc...   \n",
            "48       [pive, been, doing, aspnet, development, for, ...   \n",
            "192      [pi, there, a, way, to, select, data, where, a...   \n",
            "...                                                    ...   \n",
            "1228605  [pi, an, edittext, cursor, supposed, to, conti...   \n",
            "1234096  [pmy, app, is, crashing, after, capturing, 5, ...   \n",
            "1235166  [pi, have, a, page, with, four, image, for, th...   \n",
            "1249431  [pi, just, learned, about, a, hrefhttpsdevelop...   \n",
            "1251020  [pin, an, interview, test, for, the, following...   \n",
            "\n",
            "                                                    answer  \\\n",
            "11       [prex, i, suspect, a, good, place, to, start, ...   \n",
            "23       [pi, have, found, the, solution, else, wherep,...   \n",
            "34       [pjust, to, check, if, you, use, strongjuststr...   \n",
            "48       [pthe, datagrid, wa, originally, in, net, 10, ...   \n",
            "192      [psure, thing, the, simplest, way, is, thisp, ...   \n",
            "...                                                    ...   \n",
            "1228605  [pa, you, said, the, blinking, cursor, in, the...   \n",
            "1234096  [ptry, this, code, i, use, it, in, some, of, m...   \n",
            "1235166  [phere, is, strongjquerystrong, version, for, ...   \n",
            "1249431  [pstrikewhat, codelogwtfcode, doe, is, write, ...   \n",
            "1251020  [phes, right, but, it, very, much, a, microopt...   \n",
            "\n",
            "                            tag  \n",
            "11                   c# asp.net  \n",
            "23               sql sql-server  \n",
            "34                    php mysql  \n",
            "48                      asp.net  \n",
            "192                       mysql  \n",
            "...                         ...  \n",
            "1228605                 android  \n",
            "1234096                 android  \n",
            "1235166  javascript jquery html  \n",
            "1249431                 android  \n",
            "1251020                     c++  \n",
            "\n",
            "[2932 rows x 4 columns]\n"
          ]
        }
      ],
      "source": [
        "new_data['question'] = new_data['question'].str.split()\n",
        "new_data['answer'] = new_data['answer'].str.split()\n",
        "new_data['title'] = new_data['title'].str.split()\n",
        "\n",
        "new_data['title'] = new_data['title'].apply(lambda title: Word_Lemmatizer(title))\n",
        "new_data['answer'] = new_data['answer'].apply(lambda answer: Word_Lemmatizer(answer))\n",
        "new_data['question'] = new_data['question'].apply(lambda question: Word_Lemmatizer(question))\n",
        "print(\"After Word Lemmatixer\")\n",
        "print(new_data)"
      ]
    },
    {
      "cell_type": "code",
      "execution_count": 12,
      "metadata": {
        "colab": {
          "base_uri": "https://localhost:8080/",
          "height": 112
        },
        "id": "LjC2-T9b98G2",
        "outputId": "1dcdce4f-4205-4bcb-8b53-a5c446582e29"
      },
      "outputs": [
        {
          "name": "stdout",
          "output_type": "stream",
          "text": [
            "data after stop words\n",
            "                                                     title  \\\n",
            "11                 [get, value, built, encoded, viewstate]   \n",
            "23                           [convert, hashbytes, varchar]   \n",
            "34                 [mysqlapache, error, php, mysql, query]   \n",
            "48                [difference, datagrid, gridview, aspnet]   \n",
            "192                                               [select]   \n",
            "...                                                    ...   \n",
            "1228605  [edittext, cursor, still, blink, closing, soft...   \n",
            "1234096  [app, crashing, capturing, picture, using, int...   \n",
            "1235166                 [preview, multiple, image, upload]   \n",
            "1249431                  [logwtf, v, unhandled, exception]   \n",
            "1251020      [optimizing, use, argument, inside, function]   \n",
            "\n",
            "                                                  question  \\\n",
            "11       [pi, need, grab, base64encoded, representation...   \n",
            "23       [pi, want, get, md5, hash, string, value, sql,...   \n",
            "34       [pi, getting, following, errorp, blockquote, p...   \n",
            "48       [pive, aspnet, development, little, ive, used,...   \n",
            "192      [pi, way, select, data, one, multiple, conditi...   \n",
            "...                                                    ...   \n",
            "1228605  [pi, edittext, cursor, supposed, continue, bli...   \n",
            "1234096  [pmy, app, crashing, capturing, 5, 6, photo, u...   \n",
            "1235166  [pi, page, four, image, user, select, want, us...   \n",
            "1249431  [pi, learned, hrefhttpsdeveloperandroidcomrefe...   \n",
            "1251020  [pin, interview, test, following, code, p, pre...   \n",
            "\n",
            "                                                    answer  \\\n",
            "11       [prex, suspect, good, place, start, looking, s...   \n",
            "23       [pi, found, solution, else, wherep, precodesel...   \n",
            "34       [pjust, check, use, strongjuststrong, part, ge...   \n",
            "48       [pthe, datagrid, wa, originally, net, 10, grid...   \n",
            "192      [psure, thing, simplest, way, thisp, precodese...   \n",
            "...                                                    ...   \n",
            "1228605  [pa, said, blinking, cursor, codeedittextcode,...   \n",
            "1234096  [ptry, code, use, apps, p, plaunch, intent, me...   \n",
            "1235166  [phere, strongjquerystrong, version, think, si...   \n",
            "1249431  [pstrikewhat, codelogwtfcode, doe, write, exce...   \n",
            "1251020  [phes, right, much, microoptimisation, referen...   \n",
            "\n",
            "                            tag  \n",
            "11                   c# asp.net  \n",
            "23               sql sql-server  \n",
            "34                    php mysql  \n",
            "48                      asp.net  \n",
            "192                       mysql  \n",
            "...                         ...  \n",
            "1228605                 android  \n",
            "1234096                 android  \n",
            "1235166  javascript jquery html  \n",
            "1249431                 android  \n",
            "1251020                     c++  \n",
            "\n",
            "[2932 rows x 4 columns]\n"
          ]
        }
      ],
      "source": [
        "new_data['title'] = new_data['title'].apply(lambda title: [word for word in title if word not in stopwords.words('english')])\n",
        "new_data['question'] = new_data['question'].apply(lambda question: [word for word in question if word not in stopwords.words('english')])\n",
        "new_data['answer'] = new_data['answer'].apply(lambda answer: [word for word in answer if word not in stopwords.words('english')])\n",
        "print(\"data after stop words\")\n",
        "print(new_data)"
      ]
    },
    {
      "cell_type": "markdown",
      "metadata": {},
      "source": [
        "## **Sentiment Analysis**"
      ]
    },
    {
      "cell_type": "code",
      "execution_count": 13,
      "metadata": {
        "colab": {
          "base_uri": "https://localhost:8080/"
        },
        "id": "f08xRX5O9--P",
        "outputId": "99820cc8-3c1f-4531-8a49-f8bdc7e7911a"
      },
      "outputs": [
        {
          "name": "stdout",
          "output_type": "stream",
          "text": [
            "Sentiment Scores:\n",
            "                                        title  title_sentiment  \\\n",
            "11    [get, value, built, encoded, viewstate]              0.0   \n",
            "23              [convert, hashbytes, varchar]              0.0   \n",
            "34    [mysqlapache, error, php, mysql, query]              0.0   \n",
            "48   [difference, datagrid, gridview, aspnet]              0.0   \n",
            "192                                  [select]              0.0   \n",
            "\n",
            "                                              question  question_sentiment  \\\n",
            "11   [pi, need, grab, base64encoded, representation...            0.025000   \n",
            "23   [pi, want, get, md5, hash, string, value, sql,...            0.000000   \n",
            "34   [pi, getting, following, errorp, blockquote, p...            0.188095   \n",
            "48   [pive, aspnet, development, little, ive, used,...            0.218750   \n",
            "192  [pi, way, select, data, one, multiple, conditi...           -0.083333   \n",
            "\n",
            "                                                answer  answer_sentiment  \n",
            "11   [prex, suspect, good, place, start, looking, s...               0.0  \n",
            "23   [pi, found, solution, else, wherep, precodesel...               0.0  \n",
            "34   [pjust, check, use, strongjuststrong, part, ge...               0.0  \n",
            "48   [pthe, datagrid, wa, originally, net, 10, grid...               0.0  \n",
            "192  [psure, thing, simplest, way, thisp, precodese...               0.0  \n"
          ]
        }
      ],
      "source": [
        "def get_sentiment(text):\n",
        "    blob = TextBlob(text)\n",
        "    return blob.sentiment.polarity\n",
        "\n",
        "# Adding sentiment scores to the dataset\n",
        "new_data['title_sentiment'] = new_data['title'].apply(lambda x: get_sentiment(str(x)))\n",
        "new_data['question_sentiment'] = new_data['question'].apply(lambda x: get_sentiment(str(x)))\n",
        "new_data['answer_sentiment'] = new_data['answer'].apply(lambda x: get_sentiment(' '.join(str(x))))\n",
        "\n",
        "# Display some sentiment scores\n",
        "print(\"Sentiment Scores:\")\n",
        "print(new_data[['title', 'title_sentiment', 'question', 'question_sentiment', 'answer' , \"answer_sentiment\"]].head())"
      ]
    },
    {
      "cell_type": "markdown",
      "metadata": {},
      "source": [
        "## **TF-IDF**"
      ]
    },
    {
      "cell_type": "code",
      "execution_count": 14,
      "metadata": {
        "id": "EsdBRleeCdVw"
      },
      "outputs": [],
      "source": [
        "vectorizer = TfidfVectorizer()\n",
        "new_data['title'] = new_data['title'].astype(str)\n",
        "new_data['answer'] = new_data['answer'].astype(str)\n",
        "new_data['question'] = new_data['question'].astype(str)"
      ]
    },
    {
      "cell_type": "code",
      "execution_count": 15,
      "metadata": {
        "colab": {
          "base_uri": "https://localhost:8080/",
          "height": 206
        },
        "id": "IAduqfwgQPtr",
        "outputId": "b6d287e2-7427-474e-ce87-a527ae1ee262"
      },
      "outputs": [],
      "source": [
        "\n",
        "X1 = vectorizer.fit_transform(new_data['title'].str.lower())\n",
        "X2 = vectorizer.fit_transform(new_data['answer'].str.lower())\n",
        "X3 = vectorizer.fit_transform(new_data['question'].str.lower())"
      ]
    },
    {
      "cell_type": "code",
      "execution_count": 17,
      "metadata": {
        "colab": {
          "base_uri": "https://localhost:8080/",
          "height": 675
        },
        "id": "HbqnKS3QRdmR",
        "outputId": "985599ca-2193-415b-a278-62db5c766f65"
      },
      "outputs": [
        {
          "name": "stdout",
          "output_type": "stream",
          "text": [
            "                                                     title  \\\n",
            "11       ['get', 'value', 'built', 'encoded', 'viewstate']   \n",
            "23                     ['convert', 'hashbytes', 'varchar']   \n",
            "34       ['mysqlapache', 'error', 'php', 'mysql', 'query']   \n",
            "48        ['difference', 'datagrid', 'gridview', 'aspnet']   \n",
            "192                                             ['select']   \n",
            "...                                                    ...   \n",
            "1228605  ['edittext', 'cursor', 'still', 'blink', 'clos...   \n",
            "1234096  ['app', 'crashing', 'capturing', 'picture', 'u...   \n",
            "1235166         ['preview', 'multiple', 'image', 'upload']   \n",
            "1249431          ['logwtf', 'v', 'unhandled', 'exception']   \n",
            "1251020  ['optimizing', 'use', 'argument', 'inside', 'f...   \n",
            "\n",
            "                                                  question  \\\n",
            "11       ['pi', 'need', 'grab', 'base64encoded', 'repre...   \n",
            "23       ['pi', 'want', 'get', 'md5', 'hash', 'string',...   \n",
            "34       ['pi', 'getting', 'following', 'errorp', 'bloc...   \n",
            "48       ['pive', 'aspnet', 'development', 'little', 'i...   \n",
            "192      ['pi', 'way', 'select', 'data', 'one', 'multip...   \n",
            "...                                                    ...   \n",
            "1228605  ['pi', 'edittext', 'cursor', 'supposed', 'cont...   \n",
            "1234096  ['pmy', 'app', 'crashing', 'capturing', '5', '...   \n",
            "1235166  ['pi', 'page', 'four', 'image', 'user', 'selec...   \n",
            "1249431  ['pi', 'learned', 'hrefhttpsdeveloperandroidco...   \n",
            "1251020  ['pin', 'interview', 'test', 'following', 'cod...   \n",
            "\n",
            "                                                    answer  tag  \\\n",
            "11       ['prex', 'suspect', 'good', 'place', 'start', ...    5   \n",
            "23       ['pi', 'found', 'solution', 'else', 'wherep', ...   33   \n",
            "34       ['pjust', 'check', 'use', 'strongjuststrong', ...   25   \n",
            "48       ['pthe', 'datagrid', 'wa', 'originally', 'net'...    2   \n",
            "192      ['psure', 'thing', 'simplest', 'way', 'thisp',...   21   \n",
            "...                                                    ...  ...   \n",
            "1228605  ['pa', 'said', 'blinking', 'cursor', 'codeedit...    0   \n",
            "1234096  ['ptry', 'code', 'use', 'apps', 'p', 'plaunch'...    0   \n",
            "1235166  ['phere', 'strongjquerystrong', 'version', 'th...   17   \n",
            "1249431  ['pstrikewhat', 'codelogwtfcode', 'doe', 'writ...    0   \n",
            "1251020  ['phes', 'right', 'much', 'microoptimisation',...    6   \n",
            "\n",
            "         title_sentiment  question_sentiment  answer_sentiment  \n",
            "11                   0.0            0.025000               0.0  \n",
            "23                   0.0            0.000000               0.0  \n",
            "34                   0.0            0.188095               0.0  \n",
            "48                   0.0            0.218750               0.0  \n",
            "192                  0.0           -0.083333               0.0  \n",
            "...                  ...                 ...               ...  \n",
            "1228605              0.1           -0.027273               0.0  \n",
            "1234096              0.0            0.090516               0.0  \n",
            "1235166              0.0            0.409091               0.0  \n",
            "1249431              0.0           -0.133333               0.0  \n",
            "1251020              0.0            0.066883               0.0  \n",
            "\n",
            "[2932 rows x 7 columns]\n",
            "[ 5 33 25 ... 17  0  6]\n"
          ]
        }
      ],
      "source": [
        "label_encoder = LabelEncoder()\n",
        "new_data['tag'] = label_encoder.fit_transform(new_data['tag'])\n",
        "print(new_data)\n",
        "y = new_data['tag'].values\n",
        "print(y)\n"
      ]
    },
    {
      "cell_type": "code",
      "execution_count": 18,
      "metadata": {
        "id": "5btJ1KQpULQN"
      },
      "outputs": [
        {
          "name": "stdout",
          "output_type": "stream",
          "text": [
            "Accuracy of KNN: 0.5157715260017051\n",
            "Accuracy of SVM: 0.5657254138266796\n",
            "Accuracy of Random Forest: 0.5532821824381927\n",
            "Accuracy of Decision Tree: 0.4390451832907076\n",
            "Accuracy of GBM: 0.5268542199488491\n",
            "Accuracy of Logistic Regression: 0.4475703324808184\n"
          ]
        }
      ],
      "source": [
        "x_train, x_test, y_train, y_test = train_test_split(X2, new_data['tag'], test_size=0.4, random_state=10)\n",
        "x_train_svm, x_test_svm, y_train_svm, y_test_svm = train_test_split(X2, new_data['tag'], test_size=0.35, random_state=10)\n",
        "\n",
        "models = {\n",
        "    'KNN': KNeighborsClassifier(),\n",
        "    'SVM': svm.SVC(kernel='linear', C=10, random_state=0),\n",
        "    'Random Forest': RandomForestClassifier(n_estimators=2000),\n",
        "    'Decision Tree': DecisionTreeClassifier(random_state=10),\n",
        "    'GBM': GradientBoostingClassifier(n_estimators=100, learning_rate=0.1, random_state=10),\n",
        "    'Logistic Regression': LogisticRegression()\n",
        "}\n",
        "\n",
        "accuracies = {}\n",
        "\n",
        "for model_name, model in models.items():\n",
        "    if model_name == 'KNN':\n",
        "        accuracy = []\n",
        "        for i in range(1, 100):\n",
        "            knn = KNeighborsClassifier(n_neighbors=i).fit(x_train, y_train)\n",
        "            prediction = knn.predict(x_test)\n",
        "            accuracy.append(accuracy_score(y_test, prediction))\n",
        "        accuracies[model_name] = max(accuracy)\n",
        "    elif model_name == 'SVM':\n",
        "        svm_model = svm.SVC(kernel='linear', C=10, random_state=0).fit(x_train_svm, y_train_svm)\n",
        "        pred_svm = svm_model.predict(x_test_svm)\n",
        "        accuracies[model_name] = accuracy_score(y_test_svm, pred_svm)\n",
        "    else:\n",
        "        model.fit(x_train, y_train)\n",
        "        pred = model.predict(x_test)\n",
        "        accuracies[model_name] = accuracy_score(y_test, pred)\n",
        "\n",
        "# Print accuracies\n",
        "for model_name, accuracy in accuracies.items():\n",
        "    print(f'Accuracy of {model_name}: {accuracy}')\n",
        "\n"
      ]
    }
  ],
  "metadata": {
    "accelerator": "GPU",
    "colab": {
      "gpuType": "T4",
      "provenance": []
    },
    "kernelspec": {
      "display_name": "Python 3",
      "name": "python3"
    },
    "language_info": {
      "codemirror_mode": {
        "name": "ipython",
        "version": 3
      },
      "file_extension": ".py",
      "mimetype": "text/x-python",
      "name": "python",
      "nbconvert_exporter": "python",
      "pygments_lexer": "ipython3",
      "version": "3.12.5"
    }
  },
  "nbformat": 4,
  "nbformat_minor": 0
}
